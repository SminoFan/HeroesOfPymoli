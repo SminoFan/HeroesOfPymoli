{
 "cells": [
  {
   "cell_type": "code",
   "execution_count": null,
   "metadata": {},
   "outputs": [],
   "source": [
    "# Brandon Coleman\n",
    "# Data Analytics\n",
    "# Homework 4\n",
    "# May 10 2019"
   ]
  },
  {
   "cell_type": "markdown",
   "metadata": {},
   "source": [
    "### Heroes Of Pymoli Data Analysis\n",
    "* Of the 1163 active players, the vast majority are male (84%). There also exists, a smaller, but notable proportion of female players (14%).\n",
    "\n",
    "* Our peak age demographic falls between 20-24 (44.8%) with secondary groups falling between 15-19 (18.60%) and 25-29 (13.4%).  \n",
    "-----"
   ]
  },
  {
   "cell_type": "markdown",
   "metadata": {},
   "source": [
    "### Note\n",
    "* Instructions have been included for each segment. You do not have to follow them exactly, but they are included to help you think through the steps."
   ]
  },
  {
   "cell_type": "code",
   "execution_count": null,
   "metadata": {},
   "outputs": [],
   "source": [
    "# Dependencies and Setup\n",
    "import pandas as pd\n",
    "import numpy as np\n",
    "\n",
    "# File to Load (Remember to Change These)\n",
    "file_to_load = \"Resources/purchase_data.csv\"\n",
    "\n",
    "# Read Purchasing File and store into Pandas data frame\n",
    "purchase_data = pd.read_csv(file_to_load)"
   ]
  },
  {
   "cell_type": "markdown",
   "metadata": {},
   "source": [
    "## Player Count"
   ]
  },
  {
   "cell_type": "markdown",
   "metadata": {},
   "source": [
    "* Display the total number of players\n"
   ]
  },
  {
   "cell_type": "code",
   "execution_count": null,
   "metadata": {
    "scrolled": true
   },
   "outputs": [],
   "source": [
    "#simple dataframe built using simply dictionary\n",
    "#grab the number of unique instances in \"SN\" column/series \n",
    "\n",
    "total_players = purchase_data[\"SN\"].nunique()\n",
    "player_db = pd.DataFrame({\n",
    "    \"Total Players\": [total_players]\n",
    "})\n",
    "player_db"
   ]
  },
  {
   "cell_type": "markdown",
   "metadata": {},
   "source": [
    "## Purchasing Analysis (Total)"
   ]
  },
  {
   "cell_type": "markdown",
   "metadata": {},
   "source": [
    "* Run basic calculations to obtain number of unique items, average price, etc.\n",
    "\n",
    "\n",
    "* Create a summary data frame to hold the results\n",
    "\n",
    "\n",
    "* Optional: give the displayed data cleaner formatting\n",
    "\n",
    "\n",
    "* Display the summary data frame\n"
   ]
  },
  {
   "cell_type": "code",
   "execution_count": null,
   "metadata": {
    "scrolled": true
   },
   "outputs": [],
   "source": [
    "#purchase analysis summary dataframe\n",
    "\n",
    "avg = np.round(purchase_data[\"Price\"].mean(), 2)\n",
    "\n",
    "total_analysis_df = pd.DataFrame({\n",
    "    \"Number of Unique Items\":[purchase_data[\"Item ID\"].nunique()],\n",
    "    \"Average Price\":[avg],\n",
    "    \"Number of Purchases\":[purchase_data[\"Purchase ID\"].count()],\n",
    "    \"Total Revenue\":[purchase_data[\"Price\"].sum()]   \n",
    "})\n",
    "total_analysis_df[\"Average Price\"] = total_analysis_df[\"Average Price\"].map(\"${:.2f}\".format)\n",
    "total_analysis_df[\"Total Revenue\"] = total_analysis_df[\"Total Revenue\"].map(\"${:.2f}\".format)\n",
    "\n",
    "total_analysis_df"
   ]
  },
  {
   "cell_type": "markdown",
   "metadata": {},
   "source": [
    "## Gender Demographics"
   ]
  },
  {
   "cell_type": "markdown",
   "metadata": {},
   "source": [
    "* Percentage and Count of Male Players\n",
    "\n",
    "\n",
    "* Percentage and Count of Female Players\n",
    "\n",
    "\n",
    "* Percentage and Count of Other / Non-Disclosed\n",
    "\n",
    "\n"
   ]
  },
  {
   "cell_type": "code",
   "execution_count": null,
   "metadata": {
    "scrolled": true
   },
   "outputs": [],
   "source": [
    "#create a dataframe of unique SN's and grab total counts for all genders\n",
    "#perform percentage calculations\n",
    "#display dataframe\n",
    "\n",
    "unique_sn_df = purchase_data.drop_duplicates(subset=\"SN\", inplace=False)\n",
    "\n",
    "gender_num = unique_sn_df[\"Gender\"].value_counts()\n",
    "gender_pct = np.round((gender_num / total_players)*100, 2)\n",
    "gender_num\n",
    "gender_df = pd.DataFrame({\n",
    "   \n",
    "    \"Total Count\":(gender_num),\n",
    "    \"Percentage Of Players\":(gender_pct)    \n",
    "})\n",
    "\n",
    "gender_df"
   ]
  },
  {
   "cell_type": "markdown",
   "metadata": {},
   "source": [
    "\n",
    "## Purchasing Analysis (Gender)"
   ]
  },
  {
   "cell_type": "markdown",
   "metadata": {},
   "source": [
    "* Run basic calculations to obtain purchase count, avg. purchase price, avg. purchase total per person etc. by gender\n",
    "\n",
    "\n",
    "\n",
    "\n",
    "* Create a summary data frame to hold the results\n",
    "\n",
    "\n",
    "* Optional: give the displayed data cleaner formatting\n",
    "\n",
    "\n",
    "* Display the summary data frame"
   ]
  },
  {
   "cell_type": "code",
   "execution_count": null,
   "metadata": {},
   "outputs": [],
   "source": [
    "#calculations and series' for Purchasing Analysis dataframe\n",
    "groupby_gender_df = purchase_data.groupby(\"Gender\")\n",
    "purchase_count = groupby_gender_df[\"Purchase ID\"].count()\n",
    "avg_purchase_price = groupby_gender_df[\"Price\"].mean()\n",
    "ttl_purchase_value = groupby_gender_df[\"Price\"].sum()\n",
    "avg_ttl_per_person = np.round((groupby_gender_df[\"Price\"].sum() / gender_num), 2)"
   ]
  },
  {
   "cell_type": "code",
   "execution_count": null,
   "metadata": {},
   "outputs": [],
   "source": [
    "#gender analysis summary dataframe\n",
    "gender_analysis_df = pd.DataFrame({\"Gender\": [\"Female\",\"Male\", \"Other / Non-Disclosed\"],\n",
    "                           \"Purchase Count\": (purchase_count),\n",
    "                           \"Average Purchase Price\":(avg_purchase_price),\n",
    "                           \"Total Purchase Value\": (ttl_purchase_value),\n",
    "                           \"Avg Total Purchase per Person\": (avg_ttl_per_person)\n",
    "                        })\n",
    "\n",
    "#format columns with '$' and set gender column as index\n",
    "gender_analysis_df[\"Average Purchase Price\"] = gender_analysis_df[\"Average Purchase Price\"].map(\"${:.2f}\".format)\n",
    "gender_analysis_df[\"Total Purchase Value\"] = gender_analysis_df[\"Total Purchase Value\"].map(\"${:.2f}\".format)\n",
    "gender_analysis_df[\"Avg Total Purchase per Person\"] = gender_analysis_df[\"Avg Total Purchase per Person\"].map(\"${:.2f}\".format)\n",
    "\n",
    "gender_analysis_df.set_index([\"Gender\"], inplace=True)\n",
    "gender_analysis_df"
   ]
  },
  {
   "cell_type": "markdown",
   "metadata": {},
   "source": [
    "## Age Demographics"
   ]
  },
  {
   "cell_type": "markdown",
   "metadata": {},
   "source": [
    "* Establish bins for ages\n",
    "\n",
    "\n",
    "* Categorize the existing players using the age bins. Hint: use pd.cut()\n",
    "\n",
    "\n",
    "* Calculate the numbers and percentages by age group\n",
    "\n",
    "\n",
    "* Create a summary data frame to hold the results\n",
    "\n",
    "\n",
    "* Optional: round the percentage column to two decimal points\n",
    "\n",
    "\n",
    "* Display Age Demographics Table\n"
   ]
  },
  {
   "cell_type": "code",
   "execution_count": null,
   "metadata": {},
   "outputs": [],
   "source": [
    "#set up bins for ages and calculations for age groups\n",
    "max_age = purchase_data.Age.max()\n",
    "bins = [0,9,14,19,24,29,34,39,max_age]\n",
    "\n",
    "group_names = [\"<10\",\"10-14\",\"15-19\",\"20-24\",\"25-29\",\"30-34\",\"35-39\",\"40+\"]\n",
    "\n",
    "purchase_data[\"Age Group\"] = pd.cut(purchase_data[\"Age\"], bins, labels=group_names)\n",
    "\n",
    "drop_sn = purchase_data.drop_duplicates(subset=\"SN\", inplace=False)\n",
    "\n",
    "age_bins_counts = drop_sn[\"Age Group\"].value_counts().sort_index(axis=0)\n",
    "percent_bins_counts = np.round((age_bins_counts / drop_sn[\"Age Group\"].count())*100, 2)"
   ]
  },
  {
   "cell_type": "code",
   "execution_count": null,
   "metadata": {},
   "outputs": [],
   "source": [
    "#build and display Demographics Summary Dataframe\n",
    "\n",
    "demographics_df = pd.DataFrame({\n",
    "    \"Total Count\":(age_bins_counts),\n",
    "    \"Percentage Of Players\":(percent_bins_counts)\n",
    "})\n",
    "\n",
    "demographics_df"
   ]
  },
  {
   "cell_type": "markdown",
   "metadata": {},
   "source": [
    "## Purchasing Analysis (Age)"
   ]
  },
  {
   "cell_type": "markdown",
   "metadata": {},
   "source": [
    "* Bin the purchase_data data frame by age\n",
    "\n",
    "\n",
    "* Run basic calculations to obtain purchase count, avg. purchase price, avg. purchase total per person etc. in the table below\n",
    "\n",
    "\n",
    "* Create a summary data frame to hold the results\n",
    "\n",
    "\n",
    "* Optional: give the displayed data cleaner formatting\n",
    "\n",
    "\n",
    "* Display the summary data frame"
   ]
  },
  {
   "cell_type": "code",
   "execution_count": null,
   "metadata": {},
   "outputs": [],
   "source": [
    "#getting calculations and series' for age analysis dataframe\n",
    "groupby_agegroup_df = purchase_data.groupby(\"Age Group\")\n",
    "age_group_ttl_value = groupby_agegroup_df[\"Price\"].sum()\n",
    "age_group_avg_price = np.round(groupby_agegroup_df[\"Price\"].mean(),2)\n",
    "age_group_pur_count = groupby_agegroup_df[\"Purchase ID\"].count()\n",
    "age_group_avg_per = np.round((age_group_ttl_value / age_bins_counts),2)"
   ]
  },
  {
   "cell_type": "code",
   "execution_count": null,
   "metadata": {},
   "outputs": [],
   "source": [
    "#build and populate age analysis dataframe\n",
    "age_analysis_df = pd.DataFrame({\n",
    "    \"Purchase Count\":(age_group_pur_count),\n",
    "    \"Average Purchase Price\":(age_group_avg_price),\n",
    "    \"Total Purchase Value\":(age_group_ttl_value),\n",
    "    \"Avg Total Purchase per Person\":(age_group_avg_per)\n",
    "    \n",
    "})\n",
    "#format Price columns, delete index name 'age' and display dataframe\n",
    "age_analysis_df[\"Average Purchase Price\"] = age_analysis_df[\"Average Purchase Price\"].map(\"${:.2f}\".format)\n",
    "age_analysis_df[\"Total Purchase Value\"] = age_analysis_df[\"Total Purchase Value\"].map(\"${:.2f}\".format)\n",
    "age_analysis_df[\"Avg Total Purchase per Person\"] = age_analysis_df[\"Avg Total Purchase per Person\"].map(\"${:.2f}\".format)\n",
    "del age_analysis_df.index.name\n",
    "age_analysis_df"
   ]
  },
  {
   "cell_type": "markdown",
   "metadata": {},
   "source": [
    "## Top Spenders"
   ]
  },
  {
   "cell_type": "markdown",
   "metadata": {},
   "source": [
    "* Run basic calculations to obtain the results in the table below\n",
    "\n",
    "\n",
    "* Create a summary data frame to hold the results\n",
    "\n",
    "\n",
    "* Sort the total purchase value column in descending order\n",
    "\n",
    "\n",
    "* Optional: give the displayed data cleaner formatting\n",
    "\n",
    "\n",
    "* Display a preview of the summary data frame\n",
    "\n"
   ]
  },
  {
   "cell_type": "code",
   "execution_count": null,
   "metadata": {},
   "outputs": [],
   "source": [
    "#getting calculations and series' for spenders dataframe\n",
    "groupby_sn_df = purchase_data.groupby(\"SN\")\n",
    "sn_pur_count = groupby_sn_df[\"Purchase ID\"].count()\n",
    "sn_avg_price = np.round(groupby_sn_df[\"Price\"].mean(),2)\n",
    "sn_ttl_value = np.round(groupby_sn_df[\"Price\"].sum(), 2)"
   ]
  },
  {
   "cell_type": "code",
   "execution_count": null,
   "metadata": {},
   "outputs": [],
   "source": [
    "#build and populate spenders dataframe\n",
    "spenders_summary_df = pd.DataFrame({\n",
    "    \"Purchase Count\": (sn_pur_count),\n",
    "    \"Average Purchase Price\": (sn_avg_price),\n",
    "    \"Total Purchase Value\": (sn_ttl_value)\n",
    "})\n",
    "\n",
    "#format Price columns and sort Total Purchase Value in descending order\n",
    "spenders_summary_df.sort_values(by=[\"Total Purchase Value\"], axis=0, ascending=False, inplace=True)\n",
    "spenders_summary_df[\"Total Purchase Value\"] = spenders_summary_df[\"Total Purchase Value\"].map(\"${:.2f}\".format)\n",
    "spenders_summary_df[\"Average Purchase Price\"] = spenders_summary_df[\"Average Purchase Price\"].map(\"${:.2f}\".format)\n",
    "spenders_summary_df.head()"
   ]
  },
  {
   "cell_type": "markdown",
   "metadata": {},
   "source": [
    "## Most Popular Items"
   ]
  },
  {
   "cell_type": "markdown",
   "metadata": {},
   "source": [
    "* Retrieve the Item ID, Item Name, and Item Price columns\n",
    "\n",
    "\n",
    "* Group by Item ID and Item Name. Perform calculations to obtain purchase count, item price, and total purchase value\n",
    "\n",
    "\n",
    "* Create a summary data frame to hold the results\n",
    "\n",
    "\n",
    "* Sort the purchase count column in descending order\n",
    "\n",
    "\n",
    "* Optional: give the displayed data cleaner formatting\n",
    "\n",
    "\n",
    "* Display a preview of the summary data frame\n",
    "\n"
   ]
  },
  {
   "cell_type": "code",
   "execution_count": null,
   "metadata": {},
   "outputs": [],
   "source": [
    "#getting calculations and series' for popular items dataframe\n",
    "group_by_items = purchase_data.groupby([\"Item ID\", \"Item Name\"])\n",
    "items_pur_count = group_by_items[\"Purchase ID\"].count()\n",
    "items_ttl_value = group_by_items[\"Price\"].sum()\n",
    "item_price = np.round((items_ttl_value / items_pur_count), 2)"
   ]
  },
  {
   "cell_type": "code",
   "execution_count": null,
   "metadata": {},
   "outputs": [],
   "source": [
    "#build and popular popular items dataframe\n",
    "popular_items_df = pd.DataFrame({\n",
    "    \n",
    "    \"Purchase Count\":(items_pur_count),\n",
    "    \"Item Price\":(item_price),\n",
    "    \"Total Purchase Value\":(items_ttl_value)\n",
    "})\n",
    "\n",
    "#format columns by adding '$' to string\n",
    "popular_items_df[\"Item Price\"] = popular_items_df[\"Item Price\"].map(\"${:.2f}\".format)\n",
    "popular_items_df[\"Total Purchase Value\"] = popular_items_df[\"Total Purchase Value\"].map(\"${:.2f}\".format)\n",
    "\n",
    "#sort by Purchase Count and display preview \n",
    "popular_items_df.sort_values(by=[\"Purchase Count\"], axis=0, ascending=False, inplace=True)\n",
    "popular_items_df.head()"
   ]
  },
  {
   "cell_type": "markdown",
   "metadata": {},
   "source": [
    "## Most Profitable Items"
   ]
  },
  {
   "cell_type": "markdown",
   "metadata": {},
   "source": [
    "* Sort the above table by total purchase value in descending order\n",
    "\n",
    "\n",
    "* Optional: give the displayed data cleaner formatting\n",
    "\n",
    "\n",
    "* Display a preview of the data frame\n",
    "\n"
   ]
  },
  {
   "cell_type": "code",
   "execution_count": null,
   "metadata": {},
   "outputs": [],
   "source": [
    "# wasn't able to sort_values because Total Purchase Value column were strings\n",
    "# drop the '$ format' from Total Purchase Value column, sort, then replace\n",
    "\n",
    "popular_items_df[\"Total Purchase Value\"] = popular_items_df[\"Total Purchase Value\"].str.replace('$', '')\n",
    "popular_items_df[\"Total Purchase Value\"] = popular_items_df[\"Total Purchase Value\"].astype(float)\n",
    "\n",
    "#wouldn't let me sort inplace = True, had to assign to new dataframe\n",
    "profit_items_df = popular_items_df.sort_values(by=\"Total Purchase Value\", axis=0, ascending=False, inplace=False)\n",
    "profit_items_df[\"Total Purchase Value\"] = profit_items_df[\"Total Purchase Value\"].map(\"${:.2f}\".format)\n",
    "profit_items_df.head()"
   ]
  }
 ],
 "metadata": {
  "anaconda-cloud": {},
  "kernel_info": {
   "name": "python3"
  },
  "kernelspec": {
   "display_name": "Python 3",
   "language": "python",
   "name": "python3"
  },
  "language_info": {
   "codemirror_mode": {
    "name": "ipython",
    "version": 3
   },
   "file_extension": ".py",
   "mimetype": "text/x-python",
   "name": "python",
   "nbconvert_exporter": "python",
   "pygments_lexer": "ipython3",
   "version": "3.6.8"
  },
  "nteract": {
   "version": "0.2.0"
  }
 },
 "nbformat": 4,
 "nbformat_minor": 2
}
